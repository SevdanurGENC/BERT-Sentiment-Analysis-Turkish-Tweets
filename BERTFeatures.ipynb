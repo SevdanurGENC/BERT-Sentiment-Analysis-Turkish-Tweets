{
  "cells": [
    {
      "cell_type": "code",
      "source": [
        "#!pip install transformers\n",
        "!pip install transformers==3.0.2"
      ],
      "metadata": {
        "id": "y7VTr-U58LFs",
        "outputId": "1b80b136-e272-4742-ea0c-007412306ac6",
        "colab": {
          "base_uri": "https://localhost:8080/"
        }
      },
      "execution_count": 1,
      "outputs": [
        {
          "output_type": "stream",
          "name": "stdout",
          "text": [
            "Looking in indexes: https://pypi.org/simple, https://us-python.pkg.dev/colab-wheels/public/simple/\n",
            "Collecting transformers==3.0.2\n",
            "  Downloading transformers-3.0.2-py3-none-any.whl (769 kB)\n",
            "\u001b[K     |████████████████████████████████| 769 kB 22.7 MB/s \n",
            "\u001b[?25hRequirement already satisfied: regex!=2019.12.17 in /usr/local/lib/python3.7/dist-packages (from transformers==3.0.2) (2022.6.2)\n",
            "Requirement already satisfied: numpy in /usr/local/lib/python3.7/dist-packages (from transformers==3.0.2) (1.21.6)\n",
            "Requirement already satisfied: tqdm>=4.27 in /usr/local/lib/python3.7/dist-packages (from transformers==3.0.2) (4.64.0)\n",
            "Collecting sacremoses\n",
            "  Downloading sacremoses-0.0.53.tar.gz (880 kB)\n",
            "\u001b[K     |████████████████████████████████| 880 kB 50.3 MB/s \n",
            "\u001b[?25hCollecting tokenizers==0.8.1.rc1\n",
            "  Downloading tokenizers-0.8.1rc1-cp37-cp37m-manylinux1_x86_64.whl (3.0 MB)\n",
            "\u001b[K     |████████████████████████████████| 3.0 MB 62.9 MB/s \n",
            "\u001b[?25hCollecting sentencepiece!=0.1.92\n",
            "  Downloading sentencepiece-0.1.97-cp37-cp37m-manylinux_2_17_x86_64.manylinux2014_x86_64.whl (1.3 MB)\n",
            "\u001b[K     |████████████████████████████████| 1.3 MB 57.6 MB/s \n",
            "\u001b[?25hRequirement already satisfied: filelock in /usr/local/lib/python3.7/dist-packages (from transformers==3.0.2) (3.8.0)\n",
            "Requirement already satisfied: requests in /usr/local/lib/python3.7/dist-packages (from transformers==3.0.2) (2.23.0)\n",
            "Requirement already satisfied: packaging in /usr/local/lib/python3.7/dist-packages (from transformers==3.0.2) (21.3)\n",
            "Requirement already satisfied: pyparsing!=3.0.5,>=2.0.2 in /usr/local/lib/python3.7/dist-packages (from packaging->transformers==3.0.2) (3.0.9)\n",
            "Requirement already satisfied: idna<3,>=2.5 in /usr/local/lib/python3.7/dist-packages (from requests->transformers==3.0.2) (2.10)\n",
            "Requirement already satisfied: chardet<4,>=3.0.2 in /usr/local/lib/python3.7/dist-packages (from requests->transformers==3.0.2) (3.0.4)\n",
            "Requirement already satisfied: urllib3!=1.25.0,!=1.25.1,<1.26,>=1.21.1 in /usr/local/lib/python3.7/dist-packages (from requests->transformers==3.0.2) (1.24.3)\n",
            "Requirement already satisfied: certifi>=2017.4.17 in /usr/local/lib/python3.7/dist-packages (from requests->transformers==3.0.2) (2022.6.15)\n",
            "Requirement already satisfied: six in /usr/local/lib/python3.7/dist-packages (from sacremoses->transformers==3.0.2) (1.15.0)\n",
            "Requirement already satisfied: click in /usr/local/lib/python3.7/dist-packages (from sacremoses->transformers==3.0.2) (7.1.2)\n",
            "Requirement already satisfied: joblib in /usr/local/lib/python3.7/dist-packages (from sacremoses->transformers==3.0.2) (1.1.0)\n",
            "Building wheels for collected packages: sacremoses\n",
            "  Building wheel for sacremoses (setup.py) ... \u001b[?25l\u001b[?25hdone\n",
            "  Created wheel for sacremoses: filename=sacremoses-0.0.53-py3-none-any.whl size=895260 sha256=53cccc2e51cb8220a5ad089997e2c1e52a5ad3f69092db6882927e4b83b13c30\n",
            "  Stored in directory: /root/.cache/pip/wheels/87/39/dd/a83eeef36d0bf98e7a4d1933a4ad2d660295a40613079bafc9\n",
            "Successfully built sacremoses\n",
            "Installing collected packages: tokenizers, sentencepiece, sacremoses, transformers\n",
            "Successfully installed sacremoses-0.0.53 sentencepiece-0.1.97 tokenizers-0.8.1rc1 transformers-3.0.2\n"
          ]
        }
      ]
    },
    {
      "cell_type": "code",
      "execution_count": 2,
      "metadata": {
        "id": "w0fX3Vhw8JdT"
      },
      "outputs": [],
      "source": [
        "import matplotlib\n",
        "from sklearn.decomposition import PCA\n",
        "from datetime import datetime\n",
        "from sklearn.model_selection import GridSearchCV\n",
        "from sklearn.metrics import classification_report\n",
        "from sklearn.neural_network import MLPClassifier\n",
        "#from utils import display_pca_scatterplot\n",
        "import json\n",
        "import pandas as pd\n",
        "import random\n",
        "from transformers import AutoTokenizer, AutoModel\n",
        "from sklearn.metrics import f1_score, classification_report\n",
        "from spacy.tokenizer import Tokenizer\n",
        "from spacy.lang.tr import Turkish\n",
        "import numpy as np\n",
        "import warnings\n",
        "from tqdm import tqdm\n",
        "import matplotlib.pyplot as plt\n",
        "import torch\n",
        "\n",
        "import numpy as np\n",
        "import matplotlib.pyplot as plt\n",
        "plt.style.use('seaborn-notebook')\n",
        "import matplotlib.patches as mpatches\n",
        "\n",
        "from sklearn.decomposition import PCA\n",
        "from sklearn.model_selection import GridSearchCV\n",
        "from sklearn.metrics import classification_report"
      ]
    },
    {
      "cell_type": "code",
      "source": [
        "#Modified from https://web.stanford.edu/class/cs224n/materials/Gensim%20word%20vector%20visualization.html\n",
        "def display_pca_scatterplot(X, y, sample=100):\n",
        "    indices = np.random.choice(list(range(len(X))), sample)\n",
        "    X_sample = np.array(X)[indices]\n",
        "    y_sample = np.array(y)[indices]\n",
        "\n",
        "    twodim = PCA().fit_transform(X_sample)[:,:2]\n",
        "    \n",
        "    plt.figure(figsize=(6,6))\n",
        "    for idx, el in enumerate(X_sample):\n",
        "        if y_sample[idx]==2:\n",
        "            color = 'g'\n",
        "        elif y_sample[idx]==1:\n",
        "            color = 'k'\n",
        "        else:\n",
        "            color = 'r'\n",
        "        plt.scatter(el[0], el[1], edgecolors='k', c=color)\n",
        "\n",
        "    red_patch = mpatches.Patch(color='red', label='Negatif')\n",
        "    green_patch = mpatches.Patch(color='green', label='Pozitif')\n",
        "    black_patch = mpatches.Patch(color='black', label='Nötr')\n",
        "    plt.legend(handles=[green_patch, black_patch, red_patch])"
      ],
      "metadata": {
        "id": "YYvUPS5o8mhq"
      },
      "execution_count": 3,
      "outputs": []
    },
    {
      "cell_type": "code",
      "execution_count": 10,
      "metadata": {
        "id": "L3lrJMY98JdX"
      },
      "outputs": [],
      "source": [
        "train_path = '/content/datasets/train.json'\n",
        "val_path = '/content/datasets/validation.json'\n",
        "test_path = '/content/datasets/test.json' \n",
        "netflix_path = '/content/datasets/netflix.json'\n",
        "device = 'cuda'"
      ]
    },
    {
      "cell_type": "code",
      "execution_count": 11,
      "metadata": {
        "id": "oy9Wubeu8JdY"
      },
      "outputs": [],
      "source": [
        "def filter(text):\n",
        "    final_text = ''\n",
        "    for word in text.split():\n",
        "        if word.startswith('@'):\n",
        "            continue\n",
        "        elif word[-3:] in ['com', 'org']:\n",
        "            continue\n",
        "        elif word.startswith('pic') or word.startswith('http') or word.startswith('www'):\n",
        "            continue\n",
        "        else:\n",
        "            final_text += word+' '\n",
        "    return final_text"
      ]
    },
    {
      "cell_type": "code",
      "execution_count": 12,
      "metadata": {
        "id": "rvwgWzSL8JdZ"
      },
      "outputs": [],
      "source": [
        "tokenizer = AutoTokenizer.from_pretrained(\"dbmdz/bert-base-turkish-128k-uncased\")\n",
        "bert = AutoModel.from_pretrained(\"dbmdz/bert-base-turkish-128k-uncased\").to(device)\n",
        "\n",
        "def feature_extraction(text):\n",
        "    x = tokenizer.encode(filter(text))\n",
        "    with torch.no_grad():\n",
        "        x, _ = bert(torch.stack([torch.tensor(x)]).to(device))\n",
        "        return list(x[0][0].cpu().numpy())\n",
        "\n",
        "#def feature_extraction(text):\n",
        "#    x = tokenizer.encode(filter(text))    \n",
        "#    with torch.no_grad():\n",
        "#        y = bert(torch.stack([torch.tensor(x)]).to(device))\n",
        "#    return y.last_hidden_state[0][0].cpu().numpy()"
      ]
    },
    {
      "cell_type": "code",
      "execution_count": 13,
      "metadata": {
        "id": "qujiS8x88Jda"
      },
      "outputs": [],
      "source": [
        "with open(train_path, 'r') as f:\n",
        "    train = json.load(f)\n",
        "with open(val_path, 'r') as f:\n",
        "    val = json.load(f)\n",
        "with open(test_path, 'r') as f:\n",
        "    test = json.load(f)\n",
        "\n",
        "train = train+val"
      ]
    },
    {
      "cell_type": "code",
      "execution_count": 14,
      "metadata": {
        "id": "9tBlA93I8Jda",
        "outputId": "2549cf43-cd2d-45b9-a33b-768e7949accf",
        "colab": {
          "base_uri": "https://localhost:8080/"
        }
      },
      "outputs": [
        {
          "output_type": "stream",
          "name": "stderr",
          "text": [
            "100%|██████████| 6/6 [00:00<00:00, 85.27it/s]\n",
            "100%|██████████| 3/3 [00:00<00:00, 94.56it/s]\n"
          ]
        }
      ],
      "source": [
        "mapping = {'negative':0, 'neutral':1, 'positive':2}\n",
        "X_train = []\n",
        "y_train = []\n",
        "X_test = []\n",
        "y_test = []\n",
        "for element in tqdm(train):\n",
        "    X_train.append(feature_extraction(element['sentence']))\n",
        "    y_train.append(mapping[element['value']])\n",
        "for element in tqdm(test):\n",
        "    X_test.append(feature_extraction(element['sentence']))\n",
        "    y_test.append(mapping[element['value']])"
      ]
    },
    {
      "cell_type": "markdown",
      "metadata": {
        "id": "S7VC6Sqe8Jdb"
      },
      "source": [
        "## Visualization of Sentence Vectors"
      ]
    },
    {
      "cell_type": "code",
      "execution_count": 15,
      "metadata": {
        "id": "9cB-v_hA8Jdd",
        "outputId": "65cee1d9-a341-4e43-fe5b-4087f1a20636",
        "colab": {
          "base_uri": "https://localhost:8080/",
          "height": 378
        }
      },
      "outputs": [
        {
          "output_type": "display_data",
          "data": {
            "text/plain": [
              "<Figure size 432x432 with 1 Axes>"
            ],
            "image/png": "[encoded data removed]"
          },
          "metadata": {
            "needs_background": "light"
          }
        }
      ],
      "source": [
        "display_pca_scatterplot(X_train, y_train, 500)"
      ]
    },
    {
      "cell_type": "markdown",
      "metadata": {
        "id": "nVCtWtUR8Jde"
      },
      "source": [
        "## Training a Model with Simple MLP"
      ]
    },
    {
      "cell_type": "code",
      "execution_count": 16,
      "metadata": {
        "scrolled": true,
        "id": "L7NSZDg98Jdf",
        "outputId": "b4721270-15ea-4325-ce99-af88a83d577a",
        "colab": {
          "base_uri": "https://localhost:8080/"
        }
      },
      "outputs": [
        {
          "output_type": "stream",
          "name": "stdout",
          "text": [
            "Iteration 1, loss = 1.41572453\n",
            "Validation score: 0.000000\n",
            "Iteration 2, loss = 1.24500095\n",
            "Validation score: 0.000000\n",
            "Iteration 3, loss = 1.49107417\n",
            "Validation score: 0.000000\n",
            "Iteration 4, loss = 1.29236351\n",
            "Validation score: 0.000000\n",
            "Iteration 5, loss = 1.11812797\n",
            "Validation score: 0.000000\n",
            "Iteration 6, loss = 1.07051821\n",
            "Validation score: 0.000000\n",
            "Iteration 7, loss = 1.03149204\n",
            "Validation score: 0.000000\n",
            "Iteration 8, loss = 0.99167568\n",
            "Validation score: 0.000000\n",
            "Iteration 9, loss = 0.98693160\n",
            "Validation score: 1.000000\n",
            "Iteration 10, loss = 1.00469349\n",
            "Validation score: 1.000000\n",
            "Iteration 11, loss = 1.00180614\n",
            "Validation score: 0.000000\n",
            "Iteration 12, loss = 0.97106366\n",
            "Validation score: 0.000000\n",
            "Iteration 13, loss = 0.93873822\n",
            "Validation score: 0.000000\n",
            "Iteration 14, loss = 0.92149719\n",
            "Validation score: 0.000000\n",
            "Iteration 15, loss = 0.90931992\n",
            "Validation score: 0.000000\n",
            "Iteration 16, loss = 0.89087980\n",
            "Validation score: 0.000000\n",
            "Iteration 17, loss = 0.87232586\n",
            "Validation score: 0.000000\n",
            "Iteration 18, loss = 0.85783947\n",
            "Validation score: 0.000000\n",
            "Iteration 19, loss = 0.83882881\n",
            "Validation score: 0.000000\n",
            "Iteration 20, loss = 0.81205824\n",
            "Validation score: 0.000000\n",
            "Validation score did not improve more than tol=0.000100 for 10 consecutive epochs. Stopping.\n",
            "              precision    recall  f1-score   support\n",
            "\n",
            "           0       1.00      1.00      1.00         1\n",
            "           1       1.00      1.00      1.00         1\n",
            "           2       1.00      1.00      1.00         1\n",
            "\n",
            "    accuracy                           1.00         3\n",
            "   macro avg       1.00      1.00      1.00         3\n",
            "weighted avg       1.00      1.00      1.00         3\n",
            "\n"
          ]
        }
      ],
      "source": [
        "model = MLPClassifier(hidden_layer_sizes=(128, 64), max_iter=1000, activation='tanh', solver='adam', alpha=1e-5, learning_rate='constant',\n",
        "                      verbose=1, early_stopping=True)\n",
        "model.fit(X_train, y_train)\n",
        "y_true, y_pred = y_test, model.predict(X_test)\n",
        "print(classification_report(y_true, y_pred))"
      ]
    },
    {
      "cell_type": "markdown",
      "metadata": {
        "id": "yDe6RrKJ8Jdg"
      },
      "source": [
        "# Analysis"
      ]
    },
    {
      "cell_type": "markdown",
      "metadata": {
        "id": "mp85T8Yn8Jdh"
      },
      "source": [
        "## Netflix Analysis"
      ]
    },
    {
      "cell_type": "code",
      "execution_count": 19,
      "metadata": {
        "id": "JQcAGQNo8Jdi",
        "outputId": "181b0038-f051-45ee-a383-585c65822ff6",
        "colab": {
          "base_uri": "https://localhost:8080/"
        }
      },
      "outputs": [
        {
          "output_type": "stream",
          "name": "stderr",
          "text": [
            "1000it [00:14, 70.46it/s]\n"
          ]
        }
      ],
      "source": [
        "netflix_df = pd.read_json(netflix_path).query('is_retweet==False').drop_duplicates(['text'])[['text', 'datetime']]\n",
        "netflix_df['value'] = 0\n",
        "#-1 negative 0 neutral 1 positive\n",
        "for idx, row in tqdm(netflix_df.iterrows()):\n",
        "    X = feature_extraction(row['text'])\n",
        "    netflix_df.at[idx, 'value'] = model.predict([X])[0]-1"
      ]
    },
    {
      "cell_type": "code",
      "execution_count": 20,
      "metadata": {
        "id": "cXajwYnd8Jdi",
        "outputId": "e821dd36-06e4-48ef-eb5a-38d7d89c9833",
        "colab": {
          "base_uri": "https://localhost:8080/",
          "height": 408
        }
      },
      "outputs": [
        {
          "output_type": "display_data",
          "data": {
            "text/plain": [
              "<Figure size 864x432 with 1 Axes>"
            ],
            "image/png": "[encoded data removed]"
          },
          "metadata": {
            "needs_background": "light"
          }
        }
      ],
      "source": [
        "incident1 = datetime.strptime('2020-04-08 13:48:00', '%Y-%m-%d %H:%M:%S')\n",
        "dates = np.array(netflix_df['datetime'])\n",
        "indices = np.argsort(dates)\n",
        "window = 750\n",
        "\n",
        "dates = dates[indices][window:]\n",
        "values = np.array(netflix_df['value'])[indices]\n",
        "windows = pd.Series(values).rolling(window)\n",
        "moving_averages = windows.mean()[window:]\n",
        "\n",
        "\n",
        "plt.figure(figsize=(12,6))\n",
        "plt.plot(dates, moving_averages, color='blue', label='Average Sentiment')\n",
        "\n",
        "plt.axvline(incident1, 0, 1, label='Date of the First Incident', color='red', alpha=0.5)\n",
        "plt.title('Analysis of Turkish Tweets about Netflix')\n",
        "plt.xlabel('Date')\n",
        "plt.ylabel('Sentiment Score')\n",
        "plt.legend();"
      ]
    }
  ],
  "metadata": {
    "kernelspec": {
      "display_name": "Python 3",
      "language": "python",
      "name": "python3"
    },
    "language_info": {
      "codemirror_mode": {
        "name": "ipython",
        "version": 3
      },
      "file_extension": ".py",
      "mimetype": "text/x-python",
      "name": "python",
      "nbconvert_exporter": "python",
      "pygments_lexer": "ipython3",
      "version": "3.6.9"
    },
    "colab": {
      "provenance": [],
      "name": "BERTFeatures.ipynb",
      "collapsed_sections": []
    },
    "accelerator": "GPU",
    "gpuClass": "standard"
  },
  "nbformat": 4,
  "nbformat_minor": 0
}